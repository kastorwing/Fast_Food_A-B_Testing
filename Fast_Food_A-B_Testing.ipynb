{
 "cells": [
  {
   "cell_type": "markdown",
   "id": "a1f2777e-3379-483e-8bd5-ac0a3dcb67aa",
   "metadata": {},
   "source": [
    "# A/B/C Testing Analysis: Fast-Food Promotion Effectiveness\n",
    "\n",
    "## 1. Project Overview\n",
    "\n",
    "This section will introduce the problem and the goal of our analysis.\n",
    "\n",
    "### 1.1 Introduction\n",
    "This project investigates the effectiveness of three distinct promotional strategies implemented by a fast-food chain. The primary objective is to determine which promotion resulted in the highest total sales per location and to provide data-driven recommendations for future marketing efforts. This analysis leverages A/B/C testing methodology to compare performance across different experimental groups.\n",
    "\n",
    "### 1.2 Dataset Description\n",
    "The dataset used for this analysis contains simulated sales data from a multi-week promotional campaign across various fast-food store locations. Key variables include:\n",
    "* `MarketID`: Unique identifier for the market.\n",
    "* `MarketSize`: Categorical classification of the market (Small, Medium, Large).\n",
    "* `LocationID`: Unique identifier for each store location.\n",
    "* `AgeOfStore`: Age of the store in years.\n",
    "* `Promotion`: The specific promotion assigned to that store (1, 2, or 3).\n",
    "* `week`: The week of sales data (1-4).\n",
    "* `SalesInThousands`: Total sales for the store in that week, in thousands of dollars (our primary outcome variable).\n",
    "\n",
    "### 1.3 Key Questions\n",
    "This analysis aims to answer the following core questions:\n",
    "* Are there statistically significant differences in sales performance among the three promotions?\n",
    "* If so, which specific promotions are performing better or worse than others?\n",
    "* What are the data-driven recommendations for the fast-food chain's future promotional strategy?"
   ]
  },
  {
   "cell_type": "markdown",
   "id": "ed7a39f6-1924-475a-99a1-61e430a0efbf",
   "metadata": {},
   "source": [
    "## 2. Project Setup & Library Imports\n",
    "\n",
    "This section loads all necessary Python libraries required for data manipulation, statistical analysis, and visualization.\n",
    "\n",
    "### 2.1 Library Imports\n",
    "The following code block imports all essential Python libraries. `pandas` is used for data handling, `numpy` for numerical operations, `scipy.stats` and `statsmodels` for statistical tests (ANOVA and post-hoc), and `matplotlib.pyplot` alongside `seaborn` for data visualization. Standard display options are also set for cleaner output."
   ]
  },
  {
   "cell_type": "code",
   "execution_count": 1,
   "id": "ad759847-7502-4fd0-97d7-21e3aec5cd84",
   "metadata": {},
   "outputs": [],
   "source": [
    "import pandas as pd\n",
    "import numpy as np\n",
    "import scipy.stats as stats\n",
    "import statsmodels.api as sm\n",
    "from statsmodels.formula.api import ols\n",
    "from statsmodels.stats.multicomp import pairwise_tukeyhsd\n",
    "import matplotlib.pyplot as plt\n",
    "import seaborn as sns\n",
    "\n",
    "# Optional: Set a style for matplotlib/seaborn for nicer plots by default\n",
    "sns.set_style(\"whitegrid\")\n",
    "plt.rcParams['figure.figsize'] = (10, 6) # Set default figure size"
   ]
  },
  {
   "cell_type": "markdown",
   "id": "8a87e3bd-9103-4cc7-8741-9c5e584b7db4",
   "metadata": {},
   "source": [
    "## 3. Data Loading & Initial Inspection\n",
    "\n",
    "This section focuses on loading the dataset and performing initial checks to understand its structure, identify missing values, and gain a preliminary sense of the data distributions.\n",
    "\n",
    "### 3.1 Data Loading\n",
    "The dataset, assumed to be in CSV format and located in the same directory as this notebook, is loaded into a pandas DataFrame. This DataFrame will be our primary object for all subsequent analysis."
   ]
  },
  {
   "cell_type": "code",
   "execution_count": 3,
   "id": "6db9947e-6f79-479b-b34f-b51f2fc606b4",
   "metadata": {},
   "outputs": [],
   "source": [
    "df = pd.read_csv('FAST_FOOD_Marketing-Campaign.csv')"
   ]
  },
  {
   "cell_type": "markdown",
   "id": "9518872a-ae04-4b8d-b8b7-c5b0e0aa97c8",
   "metadata": {},
   "source": [
    "### 3.2 Initial Data Overview\n",
    "A first look at the data's head, general information (data types, non-null counts), and descriptive statistics provides a quick overview. This helps confirm successful loading, identify data types, and check for basic summary statistics like mean, standard deviation, and value ranges. We also confirm the absence of null values and note the object type for `MarketSize` (which we previously decided to keep as categorical)."
   ]
  },
  {
   "cell_type": "code",
   "execution_count": 4,
   "id": "aec33177-abe0-46ff-82b4-e459838309c5",
   "metadata": {},
   "outputs": [
    {
     "name": "stdout",
     "output_type": "stream",
     "text": [
      "--- Initial Data Overview ---\n",
      "   MarketID MarketSize  LocationID  AgeOfStore  Promotion  week  \\\n",
      "0         1     Medium           1           4          3     1   \n",
      "1         1     Medium           1           4          3     2   \n",
      "2         1     Medium           1           4          3     3   \n",
      "3         1     Medium           1           4          3     4   \n",
      "4         1     Medium           2           5          2     1   \n",
      "\n",
      "   SalesInThousands  \n",
      "0             33.73  \n",
      "1             35.67  \n",
      "2             29.03  \n",
      "3             39.25  \n",
      "4             27.81  \n",
      "\n",
      "--- DataFrame Information ---\n",
      "<class 'pandas.core.frame.DataFrame'>\n",
      "RangeIndex: 548 entries, 0 to 547\n",
      "Data columns (total 7 columns):\n",
      " #   Column            Non-Null Count  Dtype  \n",
      "---  ------            --------------  -----  \n",
      " 0   MarketID          548 non-null    int64  \n",
      " 1   MarketSize        548 non-null    object \n",
      " 2   LocationID        548 non-null    int64  \n",
      " 3   AgeOfStore        548 non-null    int64  \n",
      " 4   Promotion         548 non-null    int64  \n",
      " 5   week              548 non-null    int64  \n",
      " 6   SalesInThousands  548 non-null    float64\n",
      "dtypes: float64(1), int64(5), object(1)\n",
      "memory usage: 30.1+ KB\n",
      "None\n",
      "\n",
      "--- Descriptive Statistics (All Columns) ---\n",
      "          MarketID MarketSize  LocationID  AgeOfStore   Promotion        week  \\\n",
      "count   548.000000        548  548.000000  548.000000  548.000000  548.000000   \n",
      "unique         NaN          3         NaN         NaN         NaN         NaN   \n",
      "top            NaN     Medium         NaN         NaN         NaN         NaN   \n",
      "freq           NaN        320         NaN         NaN         NaN         NaN   \n",
      "mean      5.715328        NaN  479.656934    8.503650    2.029197    2.500000   \n",
      "std       2.877001        NaN  287.973679    6.638345    0.810729    1.119055   \n",
      "min       1.000000        NaN    1.000000    1.000000    1.000000    1.000000   \n",
      "25%       3.000000        NaN  216.000000    4.000000    1.000000    1.750000   \n",
      "50%       6.000000        NaN  504.000000    7.000000    2.000000    2.500000   \n",
      "75%       8.000000        NaN  708.000000   12.000000    3.000000    3.250000   \n",
      "max      10.000000        NaN  920.000000   28.000000    3.000000    4.000000   \n",
      "\n",
      "        SalesInThousands  \n",
      "count         548.000000  \n",
      "unique               NaN  \n",
      "top                  NaN  \n",
      "freq                 NaN  \n",
      "mean           53.466204  \n",
      "std            16.755216  \n",
      "min            17.340000  \n",
      "25%            42.545000  \n",
      "50%            50.200000  \n",
      "75%            60.477500  \n",
      "max            99.650000  \n"
     ]
    }
   ],
   "source": [
    "print(\"--- Initial Data Overview ---\")\n",
    "print(df.head())\n",
    "print(\"\\n--- DataFrame Information ---\")\n",
    "print(df.info())\n",
    "print(\"\\n--- Descriptive Statistics (All Columns) ---\")\n",
    "print(df.describe(include='all'))"
   ]
  },
  {
   "cell_type": "markdown",
   "id": "f58a999a-747e-4295-b9ea-02bbb04f4399",
   "metadata": {},
   "source": [
    "### 3.3 Data Distribution Checks\n",
    "Further checks are performed to understand the distribution of key categorical variables (`Promotion` and `MarketSize`) and to confirm the absence of null values across all columns. This helps ensure our experimental groups are reasonably balanced and that the data is complete."
   ]
  },
  {
   "cell_type": "code",
   "execution_count": 5,
   "id": "15ca8cae-2041-4c61-8754-0fde569f4eec",
   "metadata": {},
   "outputs": [
    {
     "name": "stdout",
     "output_type": "stream",
     "text": [
      "\n",
      "--- Promotion Group Counts ---\n",
      "Promotion\n",
      "3    188\n",
      "2    188\n",
      "1    172\n",
      "Name: count, dtype: int64\n",
      "\n",
      "--- Market Size Counts ---\n",
      "MarketSize\n",
      "Medium    320\n",
      "Large     168\n",
      "Small      60\n",
      "Name: count, dtype: int64\n",
      "\n",
      "--- Null Values Check ---\n",
      "MarketID            0\n",
      "MarketSize          0\n",
      "LocationID          0\n",
      "AgeOfStore          0\n",
      "Promotion           0\n",
      "week                0\n",
      "SalesInThousands    0\n",
      "dtype: int64\n"
     ]
    }
   ],
   "source": [
    "print(\"\\n--- Promotion Group Counts ---\")\n",
    "print(df['Promotion'].value_counts())\n",
    "print(\"\\n--- Market Size Counts ---\")\n",
    "print(df['MarketSize'].value_counts())\n",
    "print(\"\\n--- Null Values Check ---\")\n",
    "print(df.isnull().sum())"
   ]
  },
  {
   "cell_type": "markdown",
   "id": "b579eb88-92bd-44e3-852d-6e23b6ed4198",
   "metadata": {},
   "source": [
    "## 4. Experiment Design & Hypothesis\n",
    "\n",
    "This section outlines the setup of our A/B/C test and formally states the hypotheses we intend to test.\n",
    "\n",
    "### 4.1 Experiment Setup\n",
    "In this experiment, three distinct promotions (Promotion 1, Promotion 2, and Promotion 3) were presumably assigned to different store locations. The goal is to compare the sales performance under each promotion to identify the most effective strategy. Each location provided sales data for a period of four weeks while running its assigned promotion.\n",
    "\n",
    "### 4.2 Primary Metric Definition\n",
    "Our primary metric for evaluating promotion effectiveness is **\"Total Sales per Location over Four Weeks.\"** This metric is derived by summing the `SalesInThousands` for each unique store location across its four weeks of recorded data. This aggregation ensures that each experimental unit (a store location) is represented by a single, comprehensive sales figure for the duration of the promotion.\n",
    "\n",
    "### 4.3 Hypothesis Formulation\n",
    "For this A/B/C test, we establish the following null and alternative hypotheses:\n",
    "* **Null Hypothesis ($H_0$):** There is **no statistically significant difference** in the **mean total sales per location over four weeks** among Promotion 1, Promotion 2, and Promotion 3.\n",
    "* **Alternative Hypothesis ($H_1$):** There **is a statistically significant difference** in the **mean total sales per location over four weeks** among Promotion 1, Promotion 2, and Promotion 3. (i.e., at least one promotion's mean sales differs from the others)."
   ]
  },
  {
   "cell_type": "markdown",
   "id": "322cad43-82e3-485d-bafc-27bcbfe2e931",
   "metadata": {},
   "source": [
    "## 5. Data Preprocessing for Analysis\n",
    "\n",
    "This section details the steps taken to transform the raw, weekly sales data into the aggregated format required for our primary metric, which is the total sales for each unique store location.\n",
    "\n",
    "### 5.1 Aggregating Sales Data\n",
    "To derive our primary metric, `Total Sales per Location over Four Weeks`, we group the original DataFrame by `LocationID` and sum the `SalesInThousands`. Subsequently, the `Promotion` assigned to each unique location is merged back into this aggregated DataFrame, as each location consistently ran only one promotion throughout the test period."
   ]
  },
  {
   "cell_type": "code",
   "execution_count": 6,
   "id": "5c898404-3e33-4fe5-b561-bbd486a0aae8",
   "metadata": {},
   "outputs": [
    {
     "name": "stdout",
     "output_type": "stream",
     "text": [
      "--- Aggregated Sales Data (first 5 rows) ---\n",
      "   LocationID  SalesInThousands  Promotion\n",
      "0           1            137.68          3\n",
      "1           2            118.18          2\n",
      "2           3            162.72          1\n",
      "3           4            134.83          2\n",
      "4           5            116.01          2\n",
      "\n",
      "--- Aggregated Sales Data Info ---\n",
      "<class 'pandas.core.frame.DataFrame'>\n",
      "RangeIndex: 137 entries, 0 to 136\n",
      "Data columns (total 3 columns):\n",
      " #   Column            Non-Null Count  Dtype  \n",
      "---  ------            --------------  -----  \n",
      " 0   LocationID        137 non-null    int64  \n",
      " 1   SalesInThousands  137 non-null    float64\n",
      " 2   Promotion         137 non-null    int64  \n",
      "dtypes: float64(1), int64(2)\n",
      "memory usage: 3.3 KB\n",
      "None\n"
     ]
    }
   ],
   "source": [
    "# Aggregate SalesInThousands by LocationID\n",
    "location_sales = df.groupby('LocationID')['SalesInThousands'].sum().reset_index()\n",
    "\n",
    "# Add the 'Promotion' each location received to this new dataframe\n",
    "location_promotion_map = df.drop_duplicates(subset=['LocationID'])[['LocationID', 'Promotion']]\n",
    "location_sales = pd.merge(location_sales, location_promotion_map, on='LocationID', how='left')\n",
    "\n",
    "# Display head and info of the new aggregated DataFrame\n",
    "print(\"--- Aggregated Sales Data (first 5 rows) ---\")\n",
    "print(location_sales.head())\n",
    "print(\"\\n--- Aggregated Sales Data Info ---\")\n",
    "print(location_sales.info())"
   ]
  },
  {
   "cell_type": "markdown",
   "id": "d4a5e263-5f2d-4b9f-8491-d00e6768ab43",
   "metadata": {},
   "source": [
    "### 5.2 Verifying Location Distribution by Promotion\n",
    "After aggregation, it's crucial to confirm the number of unique locations assigned to each promotion. This step ensures that our experimental groups have reasonably balanced sample sizes, which is important for the validity and statistical power of our subsequent hypothesis test."
   ]
  },
  {
   "cell_type": "code",
   "execution_count": 7,
   "id": "571538c7-f1cd-4b1a-bdc4-038878238247",
   "metadata": {},
   "outputs": [
    {
     "name": "stdout",
     "output_type": "stream",
     "text": [
      "\n",
      "--- Unique Locations per Promotion ---\n",
      "Promotion\n",
      "3    47\n",
      "2    47\n",
      "1    43\n",
      "Name: count, dtype: int64\n"
     ]
    }
   ],
   "source": [
    "print(\"\\n--- Unique Locations per Promotion ---\")\n",
    "print(location_sales['Promotion'].value_counts())"
   ]
  },
  {
   "cell_type": "markdown",
   "id": "75c53c8b-3d97-4bf6-8948-34aada43f441",
   "metadata": {},
   "source": [
    "## 6. Exploratory Data Analysis (EDA) & Covariate Balance Check\n",
    "\n",
    "This section explores the aggregated data through visualizations and checks for balance in potential confounding variables (`MarketSize` and `AgeOfStore`) across the different promotion groups. This helps us understand underlying data patterns and assess the effectiveness of the experimental assignment.\n",
    "\n",
    "### 6.1 Visualizing Sales Distributions\n",
    "Visualizing the distribution of `Total Sales per Location` for each promotion group provides an intuitive understanding of their performance before formal statistical testing. Box plots are particularly useful for showing central tendency, spread, and potential outliers."
   ]
  },
  {
   "cell_type": "code",
   "execution_count": 8,
   "id": "3f4cf6f4-f7c4-407a-aa02-bd251245723e",
   "metadata": {},
   "outputs": [
    {
     "data": {
      "image/png": "[encoded data removed]",
      "text/plain": [
       "<Figure size 1000x600 with 1 Axes>"
      ]
     },
     "metadata": {},
     "output_type": "display_data"
    }
   ],
   "source": [
    "plt.figure(figsize=(10, 6))\n",
    "sns.boxplot(x='Promotion', y='SalesInThousands', data=location_sales)\n",
    "plt.title('Distribution of Total Sales by Promotion')\n",
    "plt.xlabel('Promotion Group')\n",
    "plt.ylabel('Total Sales (in Thousands)')\n",
    "plt.show()"
   ]
  },
  {
   "cell_type": "markdown",
   "id": "7edac975-5e4a-4104-ae90-6d0aa068f04f",
   "metadata": {},
   "source": [
    "### 6.2 Checking Covariate Balance\n",
    "We assess whether other key characteristics (`MarketSize` and `AgeOfStore`) are evenly distributed among the promotion groups. This is vital to ensure that any observed differences in sales are attributable to the promotions themselves, rather than pre-existing differences in store characteristics that could influence sales. Our initial checks noted a slight imbalance in `MarketSize` (Promotion 2 having a higher proportion of 'Large' markets and Promotion 3 having a lower proportion of 'Large' markets compared to others), which is an important consideration for result interpretation. `AgeOfStore`, however, appeared well-balanced."
   ]
  },
  {
   "cell_type": "code",
   "execution_count": 9,
   "id": "18935ef7-93cc-4430-a9fc-ac3cfae6994a",
   "metadata": {},
   "outputs": [
    {
     "name": "stdout",
     "output_type": "stream",
     "text": [
      "--- MarketSize Distribution by Promotion (Proportions) ---\n",
      "MarketSize     Large    Medium     Small\n",
      "Promotion                               \n",
      "1           0.325581  0.558140  0.116279\n",
      "2           0.340426  0.574468  0.085106\n",
      "3           0.255319  0.617021  0.127660\n",
      "\n",
      "--- AgeOfStore Descriptive Statistics by Promotion ---\n",
      "           count      mean       std  min  25%  50%   75%   max\n",
      "Promotion                                                      \n",
      "1          172.0  8.279070  6.636160  1.0  3.0  6.0  12.0  27.0\n",
      "2          188.0  7.978723  6.597648  1.0  3.0  7.0  10.0  28.0\n",
      "3          188.0  9.234043  6.651646  1.0  5.0  8.0  12.0  24.0\n"
     ]
    }
   ],
   "source": [
    "print(\"--- MarketSize Distribution by Promotion (Proportions) ---\")\n",
    "print(df.groupby('Promotion')['MarketSize'].value_counts(normalize=True).unstack())\n",
    "print(\"\\n--- AgeOfStore Descriptive Statistics by Promotion ---\")\n",
    "print(df.groupby('Promotion')['AgeOfStore'].describe())"
   ]
  },
  {
   "cell_type": "markdown",
   "id": "e539b222-0be8-4c63-9c7f-763c3db5b4da",
   "metadata": {},
   "source": [
    "## 7. Statistical Analysis (ANOVA)\n",
    "\n",
    "This section performs the primary statistical test (ANOVA) to determine if there is an overall statistically significant difference in mean total sales across the three promotion groups.\n",
    "\n",
    "### 7.1 Preparing for ANOVA\n",
    "To ensure the `statsmodels` library correctly interprets `Promotion` as a categorical grouping variable, we explicitly convert its data type in our `location_sales` DataFrame."
   ]
  },
  {
   "cell_type": "code",
   "execution_count": 11,
   "id": "d90b9d12-da7b-4519-aca3-0c5a348b37a6",
   "metadata": {},
   "outputs": [],
   "source": [
    "location_sales['Promotion'] = location_sales['Promotion'].astype('category')"
   ]
  },
  {
   "cell_type": "markdown",
   "id": "96947fb8-ad10-4f34-aec7-9a063cb5f320",
   "metadata": {},
   "source": [
    "### 7.2 Running the ANOVA Model\n",
    "An Analysis of Variance (ANOVA) model is fitted using `statsmodels.formula.api.ols`. The `model.summary()` provides comprehensive regression results, while `sm.stats.anova_lm()` extracts the specific ANOVA table. The key output to observe is the `PR(>F)` (p-value) for `C(Promotion)`, which will indicate the overall significance of the promotions' effect on sales."
   ]
  },
  {
   "cell_type": "code",
   "execution_count": 12,
   "id": "45cc702d-994a-42a3-9d79-d4829f9e6fc8",
   "metadata": {},
   "outputs": [
    {
     "name": "stdout",
     "output_type": "stream",
     "text": [
      "--- OLS Regression Results (Full Model Summary) ---\n",
      "                            OLS Regression Results                            \n",
      "==============================================================================\n",
      "Dep. Variable:       SalesInThousands   R-squared:                       0.080\n",
      "Model:                            OLS   Adj. R-squared:                  0.067\n",
      "Method:                 Least Squares   F-statistic:                     5.846\n",
      "Date:                Fri, 13 Jun 2025   Prob (F-statistic):            0.00368\n",
      "Time:                        11:10:27   Log-Likelihood:                -759.59\n",
      "No. Observations:                 137   AIC:                             1525.\n",
      "Df Residuals:                     134   BIC:                             1534.\n",
      "Df Model:                           2                                         \n",
      "Covariance Type:            nonrobust                                         \n",
      "=====================================================================================\n",
      "                        coef    std err          t      P>|t|      [0.025      0.975]\n",
      "-------------------------------------------------------------------------------------\n",
      "Intercept           232.3960      9.544     24.349      0.000     213.519     251.273\n",
      "C(Promotion)[T.2]   -43.0784     13.207     -3.262      0.001     -69.200     -16.956\n",
      "C(Promotion)[T.3]   -10.9382     13.207     -0.828      0.409     -37.060      15.184\n",
      "==============================================================================\n",
      "Omnibus:                       17.548   Durbin-Watson:                   0.121\n",
      "Prob(Omnibus):                  0.000   Jarque-Bera (JB):               20.923\n",
      "Skew:                           0.956   Prob(JB):                     2.86e-05\n",
      "Kurtosis:                       3.115   Cond. No.                         3.83\n",
      "==============================================================================\n",
      "\n",
      "Notes:\n",
      "[1] Standard Errors assume that the covariance matrix of the errors is correctly specified.\n",
      "\n",
      "--- ANOVA Table (Overall Test) ---\n",
      "                     sum_sq     df         F    PR(>F)\n",
      "C(Promotion)   45796.697163    2.0  5.845792  0.003681\n",
      "Residual      524886.746858  134.0       NaN       NaN\n"
     ]
    }
   ],
   "source": [
    "model = ols('SalesInThousands ~ C(Promotion)', data=location_sales).fit()\n",
    "\n",
    "print(\"--- OLS Regression Results (Full Model Summary) ---\")\n",
    "print(model.summary())\n",
    "\n",
    "print(\"\\n--- ANOVA Table (Overall Test) ---\")\n",
    "anova_table = sm.stats.anova_lm(model, typ=2)\n",
    "print(anova_table)"
   ]
  },
  {
   "cell_type": "markdown",
   "id": "62820ac7-a046-4cc3-9af2-7a512b75beb8",
   "metadata": {},
   "source": [
    "## 8. Post-Hoc Analysis\n",
    "\n",
    "Since the ANOVA indicated an overall significant difference among the promotion groups, this section conducts post-hoc tests to pinpoint *which specific pairs* of promotions have statistically significant differences in their mean total sales. Tukey's HSD test is used to control the family-wise error rate across multiple comparisons.\n",
    "\n",
    "### 8.1 Purpose of Post-Hoc Tests\n",
    "The ANOVA test tells us *if* there's a difference somewhere among the groups, but not *where* that difference lies. Post-hoc tests are essential to perform pairwise comparisons (e.g., Promotion 1 vs. Promotion 2, Promotion 1 vs. Promotion 3, Promotion 2 vs. Promotion 3) while statistically adjusting for the increased risk of false positives when multiple comparisons are made. This helps to draw the \"missing lines\" of comparison between all promotion pairs.\n",
    "\n",
    "### 8.2 Performing Tukey's HSD\n",
    "Tukey's Honestly Significant Difference (HSD) test is applied using `statsmodels.stats.multicomp.pairwise_tukeyhsd`. This provides an adjusted p-value for each pair, allowing us to determine specific significant differences while controlling the family-wise error rate."
   ]
  },
  {
   "cell_type": "code",
   "execution_count": 14,
   "id": "192016c9-b472-4f7b-b135-0a0630a2f640",
   "metadata": {},
   "outputs": [
    {
     "name": "stdout",
     "output_type": "stream",
     "text": [
      "--- Tukey's HSD Post-Hoc Test Results ---\n",
      " Multiple Comparison of Means - Tukey HSD, FWER=0.05  \n",
      "======================================================\n",
      "group1 group2 meandiff p-adj   lower    upper   reject\n",
      "------------------------------------------------------\n",
      "     1      2 -43.0784  0.004 -74.3806 -11.7762   True\n",
      "     1      3 -10.9382 0.6862 -42.2404   20.364  False\n",
      "     2      3  32.1402 0.0371   1.5415  62.7389   True\n",
      "------------------------------------------------------\n"
     ]
    },
    {
     "data": {
      "image/png": "[encoded data removed]",
      "text/plain": [
       "<Figure size 1000x600 with 1 Axes>"
      ]
     },
     "metadata": {},
     "output_type": "display_data"
    }
   ],
   "source": [
    "tukey_result = pairwise_tukeyhsd(endog=location_sales['SalesInThousands'],\n",
    "                                 groups=location_sales['Promotion'],\n",
    "                                 alpha=0.05)\n",
    "\n",
    "print(\"--- Tukey's HSD Post-Hoc Test Results ---\")\n",
    "print(tukey_result)\n",
    "\n",
    "# Plotting the Tukey HSD results visually shows the confidence intervals for differences\n",
    "tukey_result.plot_simultaneous()\n",
    "plt.title(\"Tukey HSD Post-Hoc Test: Sales by Promotion\")\n",
    "plt.show()"
   ]
  },
  {
   "cell_type": "markdown",
   "id": "bc5f13f4-dd00-47cd-8c61-ec688e2ba651",
   "metadata": {},
   "source": [
    "## 9. Results Interpretation & Discussion\n",
    "\n",
    "This section synthesizes the findings from the statistical tests, providing clear conclusions about the performance of each promotion.\n",
    "\n",
    "### 9.1 Overall ANOVA Findings\n",
    "Based on the ANOVA table's `PR(>F)` (p-value) for `C(Promotion)` (0.003681), which is **less than our significance level of 0.05**, we **reject the null hypothesis ($H_0$)**. This implies that there *is a statistically significant difference* in the mean total sales per location over four weeks among Promotion 1, Promotion 2, and Promotion 3. This indicates that the choice of promotion does have a measurable impact on sales.\n",
    "\n",
    "### 9.2 Pairwise Comparison Insights\n",
    "The Tukey HSD post-hoc test provided detailed insights into the specific differences between each pair of promotions:\n",
    "* **Promotion 1 vs. Promotion 2:** The mean total sales for Promotion 1 were approximately **$43,078 higher** than for Promotion 2 (`meandiff = -43.0784`). With an adjusted p-value (`p-adj`) of **0.004**, which is less than 0.05, this difference is **statistically significant (`reject = True`)**.\n",
    "* **Promotion 1 vs. Promotion 3:** The mean total sales for Promotion 1 were approximately **$10,938 higher** than for Promotion 3 (`meandiff = -10.9382`). However, with an adjusted p-value (`p-adj`) of **0.6862**, which is much greater than 0.05, this difference is **not statistically significant (`reject = False`)**. The observed difference could plausibly be due to random chance.\n",
    "* **Promotion 2 vs. Promotion 3:** The mean total sales for Promotion 3 were approximately **$32,140 higher** than for Promotion 2 (`meandiff = 32.1402`). With an adjusted p-value (`p-adj`) of **0.0371**, which is less than 0.05, this difference is **statistically significant (`reject = True`)**.\n",
    "\n",
    "### 9.3 Summary of Promotion Performance\n",
    "Consolidating these findings, we can conclude:\n",
    "* **Promotion 1** and **Promotion 3** performed statistically similarly in terms of total sales per location. Neither was significantly better than the other.\n",
    "* **Promotion 2** performed **significantly worse** than both Promotion 1 and Promotion 3.\n",
    "\n",
    "This indicates that while Promotion 1 and 3 are both effective strategies for driving sales, Promotion 2 is demonstrably less effective."
   ]
  },
  {
   "cell_type": "markdown",
   "id": "1a9216fa-7fef-4291-a3fa-97640284a4cd",
   "metadata": {},
   "source": [
    "## 10. Recommendations & Limitations\n",
    "\n",
    "This final section offers actionable business recommendations based on the analysis, acknowledges any limitations of the study, and suggests avenues for future research.\n",
    "\n",
    "### 10.1 Key Recommendations\n",
    "Based on the comprehensive statistical analysis of sales performance:\n",
    "* The fast-food chain should definitively **avoid Promotion 2** as it leads to significantly lower sales compared to the other two promotions.\n",
    "* The chain should **focus on implementing either Promotion 1 or Promotion 3**. Since no statistically significant difference in sales performance was found between these two, the decision should be guided by other business factors (see limitations below), such as cost, ease of implementation, or specific marketing goals.\n",
    "\n",
    "### 10.2 Limitations of the Analysis\n",
    "It is important to acknowledge the inherent limitations of this analysis, which impact the scope and generalizability of the conclusions:\n",
    "* **Missing Cost Data:** This analysis focused solely on sales volume. The profitability of each promotion (i.e., its cost versus the sales generated) is a crucial business factor not included in this dataset. A promotion with slightly lower sales but significantly lower costs might be more profitable.\n",
    "* **Short Duration:** The sales data covers only four weeks. This short-term view does not allow for assessment of long-term effects, customer loyalty, or potential \"fad\" impacts that might not be sustainable.\n",
    "* **External Factors:** Unmeasured external factors (e.g., specific local events, competitor promotional activities, or seasonal trends beyond the four-week period) could have influenced sales and were not controlled for.\n",
    "* **Covariate Imbalance:** While the experiment was generally well-balanced, a slight imbalance in `MarketSize` was noted across promotion groups. While not severely impacting our direct comparison, in more complex analyses or if the imbalance were greater, this could potentially confound results if not explicitly controlled for.\n",
    "* **Generalizability:** The results are based on a sample of stores and might not perfectly generalize to all locations, different time periods, or future campaigns without further validation.\n",
    "\n",
    "### 10.3 Future Work\n",
    "To provide even more comprehensive and robust recommendations, future work could include:\n",
    "* **Cost-Benefit Analysis:** Incorporating the financial cost associated with implementing each promotion to determine which offers the best return on investment (ROI).\n",
    "* **Longer-Term Tracking:** Conducting a longer A/B test (e.g., 8-12 weeks) to understand the sustained impact of promotions on sales and customer behavior.\n",
    "* **Advanced Modeling:** Employing more sophisticated statistical models (e.g., ANCOVA, regression with categorical predictors, or mixed-effects models if longitudinal store data is available) to explicitly control for covariates like `MarketSize` and `AgeOfStore`.\n",
    "* **Qualitative Research:** Gathering feedback from store managers on operational challenges, and from customers on promotion appeal and satisfaction.\n",
    "* **Targeted A/B Test:** If Promotions 1 and 3 are deemed comparable in terms of cost and operational feasibility, a dedicated A/B test comparing only these two promotions could be designed to potentially uncover a smaller, yet significant, difference if one truly exists with a larger sample or longer duration."
   ]
  },
  {
   "cell_type": "code",
   "execution_count": null,
   "id": "61a16505-3358-44be-ad0b-be4fa205ae15",
   "metadata": {},
   "outputs": [],
   "source": []
  }
 ],
 "metadata": {
  "kernelspec": {
   "display_name": "Python [conda env:base] *",
   "language": "python",
   "name": "conda-base-py"
  },
  "language_info": {
   "codemirror_mode": {
    "name": "ipython",
    "version": 3
   },
   "file_extension": ".py",
   "mimetype": "text/x-python",
   "name": "python",
   "nbconvert_exporter": "python",
   "pygments_lexer": "ipython3",
   "version": "3.12.7"
  }
 },
 "nbformat": 4,
 "nbformat_minor": 5
}
